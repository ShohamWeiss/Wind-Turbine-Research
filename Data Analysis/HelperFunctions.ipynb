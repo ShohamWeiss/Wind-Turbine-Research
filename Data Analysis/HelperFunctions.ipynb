{
 "cells": [
  {
   "cell_type": "code",
   "execution_count": 5,
   "metadata": {},
   "outputs": [],
   "source": [
    "import matplotlib.pyplot as plt\n",
    "def plotGraph(x = [], y = [], xArray = [], yArray = [], yLegend = [], title = \"\", \n",
    "              xlabel = \"\", ylabel = \"\", caption = \"\", saveTo = \"\", show = True, xlim = [], ylim = [], figX = 16, figY = 16):\n",
    "    # Fix yArray and xArray\n",
    "    if (len(y) != 0):\n",
    "        yArray = []\n",
    "        yArray.append(y)\n",
    "    if (len(x) != 0):\n",
    "        xArray = []\n",
    "        for i in yArray:\n",
    "            xArray.append(x)\n",
    "    # set figure to look nice\n",
    "    fig=plt.figure(figsize=(figX, figY), dpi= 120, facecolor='w', edgecolor='k')\n",
    "    font = {'weight' : 'bold',\n",
    "        'size'   : 22}\n",
    "    plt.rc('font', **font)\n",
    "    fig.text(.5, .05, caption, ha='center')\n",
    "    # add title and labels\n",
    "    plt.xlabel(xlabel)\n",
    "    plt.ylabel(ylabel)\n",
    "    plt.title(title)\n",
    "    # set the lims\n",
    "    if (xlim != []):\n",
    "        plt.xlim(xlim)\n",
    "    if (ylim != []):\n",
    "        plt.ylim(ylim)\n",
    "    # add grid\n",
    "    plt.grid()\n",
    "    # get the x\n",
    "    i = 0\n",
    "    for y in yArray:\n",
    "        x = xArray[i]\n",
    "        if (yLegend == []):\n",
    "            plt.plot(x,y, linewidth=3)\n",
    "        else:\n",
    "            plt.plot(x,y, linewidth=3, label = yLegend[i])\n",
    "            plt.legend()\n",
    "        i += 1\n",
    "    plt.savefig(saveTo, bbox_inches='tight')\n",
    "    if (show == True):\n",
    "        plt.show()\n",
    "    else:\n",
    "        plt.close()\n",
    "# plotGraph(x = [-2,-3,2], yArray = [[0,1,2],[1,2,3]], show = True, xlim = [0,1])\n",
    "# plotGraph(x = [1,2,3], y = [-1,1,2], show = True, xlim = [0,2])"
   ]
  }
 ],
 "metadata": {
  "kernelspec": {
   "display_name": "Python 3",
   "language": "python",
   "name": "python3"
  },
  "language_info": {
   "codemirror_mode": {
    "name": "ipython",
    "version": 3
   },
   "file_extension": ".py",
   "mimetype": "text/x-python",
   "name": "python",
   "nbconvert_exporter": "python",
   "pygments_lexer": "ipython3",
   "version": "3.7.4"
  }
 },
 "nbformat": 4,
 "nbformat_minor": 4
}
